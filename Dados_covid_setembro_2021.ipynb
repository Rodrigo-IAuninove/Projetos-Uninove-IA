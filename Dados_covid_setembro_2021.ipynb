{
  "nbformat": 4,
  "nbformat_minor": 0,
  "metadata": {
    "colab": {
      "name": "Dados covid setembro_2021.ipynb",
      "provenance": [],
      "collapsed_sections": [],
      "authorship_tag": "ABX9TyOZLKReFe9bO0Zpo6iJE7K4",
      "include_colab_link": true
    },
    "kernelspec": {
      "display_name": "Python 3",
      "name": "python3"
    },
    "language_info": {
      "name": "python"
    }
  },
  "cells": [
    {
      "cell_type": "markdown",
      "metadata": {
        "id": "view-in-github",
        "colab_type": "text"
      },
      "source": [
        "<a href=\"https://colab.research.google.com/github/Rodrigo-IAuninove/Projetos-Uninove-IA/blob/main/Dados_covid_setembro_2021.ipynb\" target=\"_parent\"><img src=\"https://colab.research.google.com/assets/colab-badge.svg\" alt=\"Open In Colab\"/></a>"
      ]
    },
    {
      "cell_type": "markdown",
      "metadata": {
        "id": "LjcPY5e4onNE"
      },
      "source": [
        "#Covid - Setembro 2021(dados)"
      ]
    },
    {
      "cell_type": "code",
      "metadata": {
        "id": "K6Llv-RDgHq-"
      },
      "source": [
        "import pandas as pd\n",
        "import matplotlib.pyplot as plt\n",
        "import numpy as np\n",
        "%matplotlib inline\n",
        "import seaborn as sns\n"
      ],
      "execution_count": 2,
      "outputs": []
    },
    {
      "cell_type": "code",
      "metadata": {
        "id": "mwVxgBKoxacc"
      },
      "source": [
        "df=pd.read_excel('/content/Dados covid setembro_2021.xlsx')"
      ],
      "execution_count": 3,
      "outputs": []
    },
    {
      "cell_type": "code",
      "metadata": {
        "colab": {
          "base_uri": "https://localhost:8080/"
        },
        "id": "QAcuhYk3yiyo",
        "outputId": "169ae9f8-769f-4e78-872f-1f5b7675e454"
      },
      "source": [
        "df.info()"
      ],
      "execution_count": 4,
      "outputs": [
        {
          "output_type": "stream",
          "name": "stdout",
          "text": [
            "<class 'pandas.core.frame.DataFrame'>\n",
            "RangeIndex: 1017039 entries, 0 to 1017038\n",
            "Data columns (total 17 columns):\n",
            " #   Column                  Non-Null Count    Dtype         \n",
            "---  ------                  --------------    -----         \n",
            " 0   regiao                  1017039 non-null  object        \n",
            " 1   estado                  1016858 non-null  object        \n",
            " 2   municipio               1008170 non-null  object        \n",
            " 3   coduf                   1017039 non-null  int64         \n",
            " 4   codmun                  1011971 non-null  float64       \n",
            " 5   codRegiaoSaude          1008170 non-null  float64       \n",
            " 6   nomeRegiaoSaude         1008170 non-null  object        \n",
            " 7   data                    1017039 non-null  datetime64[ns]\n",
            " 8   semanaEpi               1017039 non-null  int64         \n",
            " 9   populacaoTCU2019        1013238 non-null  float64       \n",
            " 10  casosAcumulado          1017039 non-null  int64         \n",
            " 11  casosNovos              1017039 non-null  int64         \n",
            " 12  obitosAcumulado         1017039 non-null  int64         \n",
            " 13  obitosNovos             1017039 non-null  int64         \n",
            " 14  Recuperadosnovos        181 non-null      float64       \n",
            " 15  emAcompanhamentoNovos   181 non-null      float64       \n",
            " 16  interior/metropolitana  1008170 non-null  float64       \n",
            "dtypes: datetime64[ns](1), float64(6), int64(6), object(4)\n",
            "memory usage: 131.9+ MB\n"
          ]
        }
      ]
    },
    {
      "cell_type": "code",
      "metadata": {
        "id": "Da2ugsy86xcY"
      },
      "source": [
        "df=df.dropna(subset=['municipio','codmun','codRegiaoSaude','nomeRegiaoSaude'])"
      ],
      "execution_count": 5,
      "outputs": []
    },
    {
      "cell_type": "code",
      "metadata": {
        "id": "3FastqgNznW1"
      },
      "source": [
        "#Somar data e estado, filtrar os dados de obitosAcumulado.\n",
        "dfobitosacumulados=pd.DataFrame(df.groupby(['data','estado']).sum()['obitosAcumulado']).unstack()['obitosAcumulado']"
      ],
      "execution_count": 6,
      "outputs": []
    },
    {
      "cell_type": "code",
      "metadata": {
        "colab": {
          "base_uri": "https://localhost:8080/",
          "height": 344
        },
        "id": "WH3z61McHgXQ",
        "outputId": "ec8e1786-a6b8-4e32-e04d-801529ad7e26"
      },
      "source": [
        "#Temos aqui o estado e a data com os valores dos obitosAcumulados de cada estado por mês no ano de 2021\n",
        "dfobitosacumulados.head()"
      ],
      "execution_count": 7,
      "outputs": [
        {
          "output_type": "execute_result",
          "data": {
            "text/html": [
              "<div>\n",
              "<style scoped>\n",
              "    .dataframe tbody tr th:only-of-type {\n",
              "        vertical-align: middle;\n",
              "    }\n",
              "\n",
              "    .dataframe tbody tr th {\n",
              "        vertical-align: top;\n",
              "    }\n",
              "\n",
              "    .dataframe thead th {\n",
              "        text-align: right;\n",
              "    }\n",
              "</style>\n",
              "<table border=\"1\" class=\"dataframe\">\n",
              "  <thead>\n",
              "    <tr style=\"text-align: right;\">\n",
              "      <th>estado</th>\n",
              "      <th>AC</th>\n",
              "      <th>AL</th>\n",
              "      <th>AM</th>\n",
              "      <th>AP</th>\n",
              "      <th>BA</th>\n",
              "      <th>CE</th>\n",
              "      <th>DF</th>\n",
              "      <th>ES</th>\n",
              "      <th>GO</th>\n",
              "      <th>MA</th>\n",
              "      <th>MG</th>\n",
              "      <th>MS</th>\n",
              "      <th>MT</th>\n",
              "      <th>PA</th>\n",
              "      <th>PB</th>\n",
              "      <th>PE</th>\n",
              "      <th>PI</th>\n",
              "      <th>PR</th>\n",
              "      <th>RJ</th>\n",
              "      <th>RN</th>\n",
              "      <th>RO</th>\n",
              "      <th>RR</th>\n",
              "      <th>RS</th>\n",
              "      <th>SC</th>\n",
              "      <th>SE</th>\n",
              "      <th>SP</th>\n",
              "      <th>TO</th>\n",
              "    </tr>\n",
              "    <tr>\n",
              "      <th>data</th>\n",
              "      <th></th>\n",
              "      <th></th>\n",
              "      <th></th>\n",
              "      <th></th>\n",
              "      <th></th>\n",
              "      <th></th>\n",
              "      <th></th>\n",
              "      <th></th>\n",
              "      <th></th>\n",
              "      <th></th>\n",
              "      <th></th>\n",
              "      <th></th>\n",
              "      <th></th>\n",
              "      <th></th>\n",
              "      <th></th>\n",
              "      <th></th>\n",
              "      <th></th>\n",
              "      <th></th>\n",
              "      <th></th>\n",
              "      <th></th>\n",
              "      <th></th>\n",
              "      <th></th>\n",
              "      <th></th>\n",
              "      <th></th>\n",
              "      <th></th>\n",
              "      <th></th>\n",
              "      <th></th>\n",
              "    </tr>\n",
              "  </thead>\n",
              "  <tbody>\n",
              "    <tr>\n",
              "      <th>2021-01-01</th>\n",
              "      <td>796</td>\n",
              "      <td>2488</td>\n",
              "      <td>5295</td>\n",
              "      <td>926</td>\n",
              "      <td>9093</td>\n",
              "      <td>9993</td>\n",
              "      <td>4263</td>\n",
              "      <td>5028</td>\n",
              "      <td>6805</td>\n",
              "      <td>4506</td>\n",
              "      <td>11902</td>\n",
              "      <td>2347</td>\n",
              "      <td>4467</td>\n",
              "      <td>7199</td>\n",
              "      <td>3680</td>\n",
              "      <td>9666</td>\n",
              "      <td>2840</td>\n",
              "      <td>7930</td>\n",
              "      <td>25600</td>\n",
              "      <td>2993</td>\n",
              "      <td>1822</td>\n",
              "      <td>781</td>\n",
              "      <td>8917</td>\n",
              "      <td>5270</td>\n",
              "      <td>2492</td>\n",
              "      <td>46775</td>\n",
              "      <td>1236</td>\n",
              "    </tr>\n",
              "    <tr>\n",
              "      <th>2021-01-02</th>\n",
              "      <td>798</td>\n",
              "      <td>2494</td>\n",
              "      <td>5325</td>\n",
              "      <td>927</td>\n",
              "      <td>9121</td>\n",
              "      <td>10015</td>\n",
              "      <td>4268</td>\n",
              "      <td>5054</td>\n",
              "      <td>6805</td>\n",
              "      <td>4513</td>\n",
              "      <td>11924</td>\n",
              "      <td>2360</td>\n",
              "      <td>4475</td>\n",
              "      <td>7209</td>\n",
              "      <td>3692</td>\n",
              "      <td>9674</td>\n",
              "      <td>2848</td>\n",
              "      <td>7938</td>\n",
              "      <td>25608</td>\n",
              "      <td>2995</td>\n",
              "      <td>1825</td>\n",
              "      <td>781</td>\n",
              "      <td>8934</td>\n",
              "      <td>5294</td>\n",
              "      <td>2500</td>\n",
              "      <td>46808</td>\n",
              "      <td>1239</td>\n",
              "    </tr>\n",
              "    <tr>\n",
              "      <th>2021-01-03</th>\n",
              "      <td>802</td>\n",
              "      <td>2501</td>\n",
              "      <td>5345</td>\n",
              "      <td>927</td>\n",
              "      <td>9152</td>\n",
              "      <td>10024</td>\n",
              "      <td>4269</td>\n",
              "      <td>5063</td>\n",
              "      <td>6805</td>\n",
              "      <td>4518</td>\n",
              "      <td>11938</td>\n",
              "      <td>2372</td>\n",
              "      <td>4488</td>\n",
              "      <td>7217</td>\n",
              "      <td>3706</td>\n",
              "      <td>9679</td>\n",
              "      <td>2854</td>\n",
              "      <td>7965</td>\n",
              "      <td>25616</td>\n",
              "      <td>3000</td>\n",
              "      <td>1832</td>\n",
              "      <td>781</td>\n",
              "      <td>8954</td>\n",
              "      <td>5314</td>\n",
              "      <td>2508</td>\n",
              "      <td>46845</td>\n",
              "      <td>1242</td>\n",
              "    </tr>\n",
              "    <tr>\n",
              "      <th>2021-01-04</th>\n",
              "      <td>806</td>\n",
              "      <td>2507</td>\n",
              "      <td>5368</td>\n",
              "      <td>936</td>\n",
              "      <td>9180</td>\n",
              "      <td>10025</td>\n",
              "      <td>4289</td>\n",
              "      <td>5116</td>\n",
              "      <td>6857</td>\n",
              "      <td>4524</td>\n",
              "      <td>11964</td>\n",
              "      <td>2398</td>\n",
              "      <td>4509</td>\n",
              "      <td>7223</td>\n",
              "      <td>3722</td>\n",
              "      <td>9691</td>\n",
              "      <td>2856</td>\n",
              "      <td>7997</td>\n",
              "      <td>25617</td>\n",
              "      <td>3011</td>\n",
              "      <td>1840</td>\n",
              "      <td>781</td>\n",
              "      <td>9018</td>\n",
              "      <td>5376</td>\n",
              "      <td>2516</td>\n",
              "      <td>46888</td>\n",
              "      <td>1244</td>\n",
              "    </tr>\n",
              "    <tr>\n",
              "      <th>2021-01-05</th>\n",
              "      <td>808</td>\n",
              "      <td>2513</td>\n",
              "      <td>5414</td>\n",
              "      <td>943</td>\n",
              "      <td>9209</td>\n",
              "      <td>10042</td>\n",
              "      <td>4305</td>\n",
              "      <td>5139</td>\n",
              "      <td>6885</td>\n",
              "      <td>4531</td>\n",
              "      <td>11984</td>\n",
              "      <td>2431</td>\n",
              "      <td>4529</td>\n",
              "      <td>7235</td>\n",
              "      <td>3740</td>\n",
              "      <td>9709</td>\n",
              "      <td>2863</td>\n",
              "      <td>8092</td>\n",
              "      <td>25837</td>\n",
              "      <td>3046</td>\n",
              "      <td>1852</td>\n",
              "      <td>783</td>\n",
              "      <td>9125</td>\n",
              "      <td>5420</td>\n",
              "      <td>2524</td>\n",
              "      <td>47222</td>\n",
              "      <td>1248</td>\n",
              "    </tr>\n",
              "  </tbody>\n",
              "</table>\n",
              "</div>"
            ],
            "text/plain": [
              "estado       AC    AL    AM   AP    BA  ...    RS    SC    SE     SP    TO\n",
              "data                                    ...                               \n",
              "2021-01-01  796  2488  5295  926  9093  ...  8917  5270  2492  46775  1236\n",
              "2021-01-02  798  2494  5325  927  9121  ...  8934  5294  2500  46808  1239\n",
              "2021-01-03  802  2501  5345  927  9152  ...  8954  5314  2508  46845  1242\n",
              "2021-01-04  806  2507  5368  936  9180  ...  9018  5376  2516  46888  1244\n",
              "2021-01-05  808  2513  5414  943  9209  ...  9125  5420  2524  47222  1248\n",
              "\n",
              "[5 rows x 27 columns]"
            ]
          },
          "metadata": {},
          "execution_count": 7
        }
      ]
    },
    {
      "cell_type": "code",
      "metadata": {
        "colab": {
          "base_uri": "https://localhost:8080/"
        },
        "id": "a-8u-kIzIX6Y",
        "outputId": "c2c5c5b5-c65d-46db-d72b-5b9553c1566c"
      },
      "source": [
        "#Todos os estados da planilha\n",
        "dfobitosacumulados.columns.values"
      ],
      "execution_count": 8,
      "outputs": [
        {
          "output_type": "execute_result",
          "data": {
            "text/plain": [
              "array(['AC', 'AL', 'AM', 'AP', 'BA', 'CE', 'DF', 'ES', 'GO', 'MA', 'MG',\n",
              "       'MS', 'MT', 'PA', 'PB', 'PE', 'PI', 'PR', 'RJ', 'RN', 'RO', 'RR',\n",
              "       'RS', 'SC', 'SE', 'SP', 'TO'], dtype=object)"
            ]
          },
          "metadata": {},
          "execution_count": 8
        }
      ]
    },
    {
      "cell_type": "code",
      "metadata": {
        "id": "21zl7UzzKbWd"
      },
      "source": [
        "# Os 12 maiores estados do país e os números de obitos acumulados\n",
        "colunasdosestadosselecionados = ['AM','BA','GO', 'MA', 'MG',\n",
        "       'MS', 'MT', 'PA','PI',\n",
        "       'RS','SP', 'TO']"
      ],
      "execution_count": 9,
      "outputs": []
    },
    {
      "cell_type": "code",
      "metadata": {
        "id": "byGHvkhiLGBB"
      },
      "source": [
        "#Os 12 estados filtrados com o número de óbitosAcumulados\n",
        "dfcolunas = dfobitosacumulados.filter(items=colunasdosestadosselecionados)"
      ],
      "execution_count": 10,
      "outputs": []
    },
    {
      "cell_type": "code",
      "metadata": {
        "colab": {
          "base_uri": "https://localhost:8080/"
        },
        "id": "L2qqcHPDLi5P",
        "outputId": "54ca671d-ddc4-42d9-ca74-9a30cee8c499"
      },
      "source": [
        "dfcolunas.head().sort_index"
      ],
      "execution_count": 11,
      "outputs": [
        {
          "output_type": "execute_result",
          "data": {
            "text/plain": [
              "<bound method DataFrame.sort_index of estado        AM    BA    GO    MA     MG  ...    PA    PI    RS     SP    TO\n",
              "data                                       ...                               \n",
              "2021-01-01  5295  9093  6805  4506  11902  ...  7199  2840  8917  46775  1236\n",
              "2021-01-02  5325  9121  6805  4513  11924  ...  7209  2848  8934  46808  1239\n",
              "2021-01-03  5345  9152  6805  4518  11938  ...  7217  2854  8954  46845  1242\n",
              "2021-01-04  5368  9180  6857  4524  11964  ...  7223  2856  9018  46888  1244\n",
              "2021-01-05  5414  9209  6885  4531  11984  ...  7235  2863  9125  47222  1248\n",
              "\n",
              "[5 rows x 12 columns]>"
            ]
          },
          "metadata": {},
          "execution_count": 11
        }
      ]
    },
    {
      "cell_type": "code",
      "metadata": {
        "id": "K_Nzd0ppfDTD"
      },
      "source": [
        "Amazonas = dfcolunas['AM']"
      ],
      "execution_count": 12,
      "outputs": []
    },
    {
      "cell_type": "code",
      "metadata": {
        "colab": {
          "base_uri": "https://localhost:8080/"
        },
        "id": "fLs9-ZuksqEW",
        "outputId": "7569019e-5c90-4893-9921-fdcef7335581"
      },
      "source": [
        "Amazonas.head()"
      ],
      "execution_count": 13,
      "outputs": [
        {
          "output_type": "execute_result",
          "data": {
            "text/plain": [
              "data\n",
              "2021-01-01    5295\n",
              "2021-01-02    5325\n",
              "2021-01-03    5345\n",
              "2021-01-04    5368\n",
              "2021-01-05    5414\n",
              "Name: AM, dtype: int64"
            ]
          },
          "metadata": {},
          "execution_count": 13
        }
      ]
    },
    {
      "cell_type": "code",
      "metadata": {
        "colab": {
          "base_uri": "https://localhost:8080/",
          "height": 282
        },
        "id": "5N02dAbhiuEa",
        "outputId": "0bf56022-645c-4bf2-e27a-a67f37037d1d"
      },
      "source": [
        "Amazonas.hist(bins=100)"
      ],
      "execution_count": 14,
      "outputs": [
        {
          "output_type": "execute_result",
          "data": {
            "text/plain": [
              "<matplotlib.axes._subplots.AxesSubplot at 0x7fa43eced550>"
            ]
          },
          "metadata": {},
          "execution_count": 14
        },
        {
          "output_type": "display_data",
          "data": {
            "image/png": "[encoded data removed]",
            "text/plain": [
              "<Figure size 432x288 with 1 Axes>"
            ]
          },
          "metadata": {
            "needs_background": "light"
          }
        }
      ]
    },
    {
      "cell_type": "code",
      "metadata": {
        "id": "FczTmxnsrt6N"
      },
      "source": [
        "Bahia = dfcolunas['BA']"
      ],
      "execution_count": 15,
      "outputs": []
    },
    {
      "cell_type": "code",
      "metadata": {
        "colab": {
          "base_uri": "https://localhost:8080/"
        },
        "id": "_5rAuOl7sOzo",
        "outputId": "61a05648-d134-46dc-a752-1971afb43bd3"
      },
      "source": [
        "Bahia.head()"
      ],
      "execution_count": 16,
      "outputs": [
        {
          "output_type": "execute_result",
          "data": {
            "text/plain": [
              "data\n",
              "2021-01-01    9093\n",
              "2021-01-02    9121\n",
              "2021-01-03    9152\n",
              "2021-01-04    9180\n",
              "2021-01-05    9209\n",
              "Name: BA, dtype: int64"
            ]
          },
          "metadata": {},
          "execution_count": 16
        }
      ]
    },
    {
      "cell_type": "code",
      "metadata": {
        "colab": {
          "base_uri": "https://localhost:8080/",
          "height": 282
        },
        "id": "RjuJTKT0sDWJ",
        "outputId": "9405a697-d9b4-4c73-b5d8-cd41ac30f4ca"
      },
      "source": [
        "Bahia.hist(bins=100)"
      ],
      "execution_count": 17,
      "outputs": [
        {
          "output_type": "execute_result",
          "data": {
            "text/plain": [
              "<matplotlib.axes._subplots.AxesSubplot at 0x7fa434b33990>"
            ]
          },
          "metadata": {},
          "execution_count": 17
        },
        {
          "output_type": "display_data",
          "data": {
            "image/png": "[encoded data removed]",
            "text/plain": [
              "<Figure size 432x288 with 1 Axes>"
            ]
          },
          "metadata": {
            "needs_background": "light"
          }
        }
      ]
    },
    {
      "cell_type": "code",
      "metadata": {
        "id": "riRv8D1RtBCl"
      },
      "source": [
        "Goiás = dfcolunas['GO']"
      ],
      "execution_count": 18,
      "outputs": []
    },
    {
      "cell_type": "code",
      "metadata": {
        "colab": {
          "base_uri": "https://localhost:8080/"
        },
        "id": "SfRE666ftKWB",
        "outputId": "63805254-053f-497b-860b-ec210696b133"
      },
      "source": [
        "Goiás.head"
      ],
      "execution_count": 19,
      "outputs": [
        {
          "output_type": "execute_result",
          "data": {
            "text/plain": [
              "<bound method NDFrame.head of data\n",
              "2021-01-01     6805\n",
              "2021-01-02     6805\n",
              "2021-01-03     6805\n",
              "2021-01-04     6857\n",
              "2021-01-05     6885\n",
              "              ...  \n",
              "2021-06-26    18953\n",
              "2021-06-27    18988\n",
              "2021-06-28    18992\n",
              "2021-06-29    19084\n",
              "2021-06-30    19187\n",
              "Name: GO, Length: 181, dtype: int64>"
            ]
          },
          "metadata": {},
          "execution_count": 19
        }
      ]
    },
    {
      "cell_type": "code",
      "metadata": {
        "colab": {
          "base_uri": "https://localhost:8080/",
          "height": 282
        },
        "id": "-_YXknNFtQ4V",
        "outputId": "262164e9-bf7f-4b50-a984-ba937a0e495a"
      },
      "source": [
        "Goiás.hist(bins=100)"
      ],
      "execution_count": 21,
      "outputs": [
        {
          "output_type": "execute_result",
          "data": {
            "text/plain": [
              "<matplotlib.axes._subplots.AxesSubplot at 0x7fa432d7d490>"
            ]
          },
          "metadata": {},
          "execution_count": 21
        },
        {
          "output_type": "display_data",
          "data": {
            "image/png": "[encoded data removed]",
            "text/plain": [
              "<Figure size 432x288 with 1 Axes>"
            ]
          },
          "metadata": {
            "needs_background": "light"
          }
        }
      ]
    },
    {
      "cell_type": "code",
      "metadata": {
        "id": "9Ld04HS5tYxV"
      },
      "source": [
        "Maranhão = dfcolunas['MA']"
      ],
      "execution_count": 22,
      "outputs": []
    },
    {
      "cell_type": "code",
      "metadata": {
        "colab": {
          "base_uri": "https://localhost:8080/",
          "height": 282
        },
        "id": "L-CC17Xytmob",
        "outputId": "36fedf32-d443-40ed-9ec7-cd632bffbf47"
      },
      "source": [
        "Maranhão.hist(bins=100)"
      ],
      "execution_count": 23,
      "outputs": [
        {
          "output_type": "execute_result",
          "data": {
            "text/plain": [
              "<matplotlib.axes._subplots.AxesSubplot at 0x7fa4378b3250>"
            ]
          },
          "metadata": {},
          "execution_count": 23
        },
        {
          "output_type": "display_data",
          "data": {
            "image/png": "[encoded data removed]",
            "text/plain": [
              "<Figure size 432x288 with 1 Axes>"
            ]
          },
          "metadata": {
            "needs_background": "light"
          }
        }
      ]
    },
    {
      "cell_type": "code",
      "metadata": {
        "id": "PEVBy4Wetx9Q"
      },
      "source": [
        "MinasGerais = dfcolunas['MG']"
      ],
      "execution_count": 24,
      "outputs": []
    },
    {
      "cell_type": "code",
      "metadata": {
        "colab": {
          "base_uri": "https://localhost:8080/",
          "height": 282
        },
        "id": "1yvEOzp1t-43",
        "outputId": "98ac100f-ea4a-4e51-cf01-5f8ecfebc22d"
      },
      "source": [
        "MinasGerais.hist(bins=100)"
      ],
      "execution_count": 25,
      "outputs": [
        {
          "output_type": "execute_result",
          "data": {
            "text/plain": [
              "<matplotlib.axes._subplots.AxesSubplot at 0x7fa432c91250>"
            ]
          },
          "metadata": {},
          "execution_count": 25
        },
        {
          "output_type": "display_data",
          "data": {
            "image/png": "[encoded data removed]",
            "text/plain": [
              "<Figure size 432x288 with 1 Axes>"
            ]
          },
          "metadata": {
            "needs_background": "light"
          }
        }
      ]
    },
    {
      "cell_type": "code",
      "metadata": {
        "id": "iOqOzZ3EuRps"
      },
      "source": [
        "MatoGrossoDoSul = dfcolunas['MS']"
      ],
      "execution_count": 26,
      "outputs": []
    },
    {
      "cell_type": "code",
      "metadata": {
        "colab": {
          "base_uri": "https://localhost:8080/",
          "height": 282
        },
        "id": "s6LS9Z__ujL6",
        "outputId": "df0ec2da-3a7f-4204-ad49-f6d5d3e2f4fb"
      },
      "source": [
        "MatoGrossoDoSul.hist(bins=100)"
      ],
      "execution_count": 27,
      "outputs": [
        {
          "output_type": "execute_result",
          "data": {
            "text/plain": [
              "<matplotlib.axes._subplots.AxesSubplot at 0x7fa432c8dbd0>"
            ]
          },
          "metadata": {},
          "execution_count": 27
        },
        {
          "output_type": "display_data",
          "data": {
            "image/png": "[encoded data removed]",
            "text/plain": [
              "<Figure size 432x288 with 1 Axes>"
            ]
          },
          "metadata": {
            "needs_background": "light"
          }
        }
      ]
    },
    {
      "cell_type": "code",
      "metadata": {
        "id": "MjwWgXGkuo1Q"
      },
      "source": [
        "MatoGrosso = dfcolunas['MT']"
      ],
      "execution_count": 28,
      "outputs": []
    },
    {
      "cell_type": "code",
      "metadata": {
        "colab": {
          "base_uri": "https://localhost:8080/",
          "height": 282
        },
        "id": "AoK0iOjMuzHv",
        "outputId": "fb345536-fe04-4525-85c9-e25c20386542"
      },
      "source": [
        "MatoGrosso.hist(bins=100)"
      ],
      "execution_count": 29,
      "outputs": [
        {
          "output_type": "execute_result",
          "data": {
            "text/plain": [
              "<matplotlib.axes._subplots.AxesSubplot at 0x7fa432c52550>"
            ]
          },
          "metadata": {},
          "execution_count": 29
        },
        {
          "output_type": "display_data",
          "data": {
            "image/png": "[encoded data removed]",
            "text/plain": [
              "<Figure size 432x288 with 1 Axes>"
            ]
          },
          "metadata": {
            "needs_background": "light"
          }
        }
      ]
    },
    {
      "cell_type": "code",
      "metadata": {
        "id": "PCVt9WQcu70x"
      },
      "source": [
        "Pará = dfcolunas['PA']"
      ],
      "execution_count": 30,
      "outputs": []
    },
    {
      "cell_type": "code",
      "metadata": {
        "colab": {
          "base_uri": "https://localhost:8080/",
          "height": 282
        },
        "id": "TQtiEidgvEiY",
        "outputId": "abeeb1a0-ca93-4ca3-8602-bbd51c9219bb"
      },
      "source": [
        "Pará.hist(bins=100)"
      ],
      "execution_count": 31,
      "outputs": [
        {
          "output_type": "execute_result",
          "data": {
            "text/plain": [
              "<matplotlib.axes._subplots.AxesSubplot at 0x7fa439cd4f90>"
            ]
          },
          "metadata": {},
          "execution_count": 31
        },
        {
          "output_type": "display_data",
          "data": {
            "image/png": "[encoded data removed]",
            "text/plain": [
              "<Figure size 432x288 with 1 Axes>"
            ]
          },
          "metadata": {
            "needs_background": "light"
          }
        }
      ]
    },
    {
      "cell_type": "code",
      "metadata": {
        "id": "jWp1vYIZvMX4"
      },
      "source": [
        "Piauí = dfcolunas['PI']"
      ],
      "execution_count": 32,
      "outputs": []
    },
    {
      "cell_type": "code",
      "metadata": {
        "colab": {
          "base_uri": "https://localhost:8080/",
          "height": 282
        },
        "id": "R_zvex80vTx0",
        "outputId": "dcce91c7-ac23-4da3-d516-10dbc4c298a5"
      },
      "source": [
        "Piauí.hist(bins=100)"
      ],
      "execution_count": 33,
      "outputs": [
        {
          "output_type": "execute_result",
          "data": {
            "text/plain": [
              "<matplotlib.axes._subplots.AxesSubplot at 0x7fa4394f75d0>"
            ]
          },
          "metadata": {},
          "execution_count": 33
        },
        {
          "output_type": "display_data",
          "data": {
            "image/png": "[encoded data removed]",
            "text/plain": [
              "<Figure size 432x288 with 1 Axes>"
            ]
          },
          "metadata": {
            "needs_background": "light"
          }
        }
      ]
    },
    {
      "cell_type": "code",
      "metadata": {
        "id": "WbFlwHWNvcRH"
      },
      "source": [
        "RioGrandeDoSul = dfcolunas['RS']"
      ],
      "execution_count": 34,
      "outputs": []
    },
    {
      "cell_type": "code",
      "metadata": {
        "colab": {
          "base_uri": "https://localhost:8080/",
          "height": 282
        },
        "id": "rMP8dT3LvnjJ",
        "outputId": "f131ef2b-2859-4ffa-f830-1870c1713fe0"
      },
      "source": [
        "RioGrandeDoSul.hist(bins=100)"
      ],
      "execution_count": 35,
      "outputs": [
        {
          "output_type": "execute_result",
          "data": {
            "text/plain": [
              "<matplotlib.axes._subplots.AxesSubplot at 0x7fa438d10c90>"
            ]
          },
          "metadata": {},
          "execution_count": 35
        },
        {
          "output_type": "display_data",
          "data": {
            "image/png": "[encoded data removed]",
            "text/plain": [
              "<Figure size 432x288 with 1 Axes>"
            ]
          },
          "metadata": {
            "needs_background": "light"
          }
        }
      ]
    },
    {
      "cell_type": "code",
      "metadata": {
        "id": "PZgsaipyvwi-"
      },
      "source": [
        "SãoPaulo = dfcolunas['SP']"
      ],
      "execution_count": 36,
      "outputs": []
    },
    {
      "cell_type": "code",
      "metadata": {
        "colab": {
          "base_uri": "https://localhost:8080/",
          "height": 282
        },
        "id": "Wo0XyxO1v3fO",
        "outputId": "a150a234-c6b9-414e-e026-8143a9083f41"
      },
      "source": [
        "SãoPaulo.hist(bins=100)"
      ],
      "execution_count": 37,
      "outputs": [
        {
          "output_type": "execute_result",
          "data": {
            "text/plain": [
              "<matplotlib.axes._subplots.AxesSubplot at 0x7fa4331c1c50>"
            ]
          },
          "metadata": {},
          "execution_count": 37
        },
        {
          "output_type": "display_data",
          "data": {
            "image/png": "[encoded data removed]",
            "text/plain": [
              "<Figure size 432x288 with 1 Axes>"
            ]
          },
          "metadata": {
            "needs_background": "light"
          }
        }
      ]
    },
    {
      "cell_type": "code",
      "metadata": {
        "id": "TwnT-jaswAD5"
      },
      "source": [
        "Tocantins = dfcolunas['TO']"
      ],
      "execution_count": 38,
      "outputs": []
    },
    {
      "cell_type": "code",
      "metadata": {
        "colab": {
          "base_uri": "https://localhost:8080/",
          "height": 282
        },
        "id": "S_iWfYmmwINA",
        "outputId": "d48fb610-4fe1-4b9a-ac0c-ea1248c0884a"
      },
      "source": [
        "Tocantins.hist(bins=100)"
      ],
      "execution_count": 39,
      "outputs": [
        {
          "output_type": "execute_result",
          "data": {
            "text/plain": [
              "<matplotlib.axes._subplots.AxesSubplot at 0x7fa4370b2bd0>"
            ]
          },
          "metadata": {},
          "execution_count": 39
        },
        {
          "output_type": "display_data",
          "data": {
            "image/png": "[encoded data removed]",
            "text/plain": [
              "<Figure size 432x288 with 1 Axes>"
            ]
          },
          "metadata": {
            "needs_background": "light"
          }
        }
      ]
    },
    {
      "cell_type": "code",
      "metadata": {
        "id": "-JOMl3Iny1Nx"
      },
      "source": [
        "DadosCovid2021deObitosAcumulado = dfobitosacumulados.to_csv('DadosCovid2021deObitosAcumulado.csv')"
      ],
      "execution_count": 40,
      "outputs": []
    }
  ]
}