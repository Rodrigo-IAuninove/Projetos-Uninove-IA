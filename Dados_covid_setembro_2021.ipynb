{
  "nbformat": 4,
  "nbformat_minor": 0,
  "metadata": {
    "colab": {
      "name": "Dados covid setembro_2021.ipynb",
      "provenance": [],
      "collapsed_sections": [],
      "authorship_tag": "ABX9TyNu/OF167OANO+b4s0mso4l",
      "include_colab_link": true
    },
    "kernelspec": {
      "display_name": "Python 3",
      "name": "python3"
    },
    "language_info": {
      "name": "python"
    }
  },
  "cells": [
    {
      "cell_type": "markdown",
      "metadata": {
        "id": "view-in-github",
        "colab_type": "text"
      },
      "source": [
        "<a href=\"https://colab.research.google.com/github/Rodrigo-IAuninove/Projetos-Uninove-IA/blob/main/Dados_covid_setembro_2021.ipynb\" target=\"_parent\"><img src=\"https://colab.research.google.com/assets/colab-badge.svg\" alt=\"Open In Colab\"/></a>"
      ]
    },
    {
      "cell_type": "markdown",
      "metadata": {
        "id": "LjcPY5e4onNE"
      },
      "source": [
        "#Covid - Setembro 2021(dados)"
      ]
    },
    {
      "cell_type": "code",
      "metadata": {
        "id": "K6Llv-RDgHq-"
      },
      "source": [
        "#importação das bibliotecas a serem utilizadas\n",
        "import pandas as pd\n",
        "import matplotlib.pyplot as plt\n",
        "import numpy as np\n",
        "%matplotlib inline\n",
        "import seaborn as sns\n"
      ],
      "execution_count": 2,
      "outputs": []
    },
    {
      "cell_type": "code",
      "metadata": {
        "id": "mwVxgBKoxacc"
      },
      "source": [
        "#Carregamento do arquivo a ser analisado.\n",
        "df=pd.read_excel('/content/Dados covid setembro_2021.xlsx')"
      ],
      "execution_count": 3,
      "outputs": []
    },
    {
      "cell_type": "code",
      "metadata": {
        "colab": {
          "base_uri": "https://localhost:8080/"
        },
        "id": "QAcuhYk3yiyo",
        "outputId": "e3ddfc3c-025f-4dab-865a-b5d8d44da7e1"
      },
      "source": [
        "#Informações do arquivo\n",
        "df.info()"
      ],
      "execution_count": 5,
      "outputs": [
        {
          "output_type": "stream",
          "name": "stdout",
          "text": [
            "<class 'pandas.core.frame.DataFrame'>\n",
            "RangeIndex: 1017039 entries, 0 to 1017038\n",
            "Data columns (total 17 columns):\n",
            " #   Column                  Non-Null Count    Dtype         \n",
            "---  ------                  --------------    -----         \n",
            " 0   regiao                  1017039 non-null  object        \n",
            " 1   estado                  1016858 non-null  object        \n",
            " 2   municipio               1008170 non-null  object        \n",
            " 3   coduf                   1017039 non-null  int64         \n",
            " 4   codmun                  1011971 non-null  float64       \n",
            " 5   codRegiaoSaude          1008170 non-null  float64       \n",
            " 6   nomeRegiaoSaude         1008170 non-null  object        \n",
            " 7   data                    1017039 non-null  datetime64[ns]\n",
            " 8   semanaEpi               1017039 non-null  int64         \n",
            " 9   populacaoTCU2019        1013238 non-null  float64       \n",
            " 10  casosAcumulado          1017039 non-null  int64         \n",
            " 11  casosNovos              1017039 non-null  int64         \n",
            " 12  obitosAcumulado         1017039 non-null  int64         \n",
            " 13  obitosNovos             1017039 non-null  int64         \n",
            " 14  Recuperadosnovos        181 non-null      float64       \n",
            " 15  emAcompanhamentoNovos   181 non-null      float64       \n",
            " 16  interior/metropolitana  1008170 non-null  float64       \n",
            "dtypes: datetime64[ns](1), float64(6), int64(6), object(4)\n",
            "memory usage: 131.9+ MB\n"
          ]
        }
      ]
    },
    {
      "cell_type": "code",
      "metadata": {
        "id": "Da2ugsy86xcY"
      },
      "source": [
        "#Excluindo alguns dados que não serão relevantes para a analise.\n",
        "df=df.dropna(subset=['municipio','codmun','codRegiaoSaude','nomeRegiaoSaude'])"
      ],
      "execution_count": 6,
      "outputs": []
    },
    {
      "cell_type": "code",
      "metadata": {
        "id": "3FastqgNznW1"
      },
      "source": [
        "#Somando as variáveis data e estado, filtrando os dados de obitosAcumulado para analise.\n",
        "dfobitosacumulados=pd.DataFrame(df.groupby(['data','estado']).sum()['obitosAcumulado']).unstack()['obitosAcumulado']"
      ],
      "execution_count": 7,
      "outputs": []
    },
    {
      "cell_type": "code",
      "metadata": {
        "colab": {
          "base_uri": "https://localhost:8080/",
          "height": 344
        },
        "id": "WH3z61McHgXQ",
        "outputId": "3923f082-9877-4a5f-d32c-3d7fde4b2f1b"
      },
      "source": [
        "#Temos aqui o estado e a data com os valores dos obitosAcumulados de cada estado por mês no ano de 2021\n",
        "dfobitosacumulados.head()"
      ],
      "execution_count": 8,
      "outputs": [
        {
          "output_type": "execute_result",
          "data": {
            "text/html": [
              "<div>\n",
              "<style scoped>\n",
              "    .dataframe tbody tr th:only-of-type {\n",
              "        vertical-align: middle;\n",
              "    }\n",
              "\n",
              "    .dataframe tbody tr th {\n",
              "        vertical-align: top;\n",
              "    }\n",
              "\n",
              "    .dataframe thead th {\n",
              "        text-align: right;\n",
              "    }\n",
              "</style>\n",
              "<table border=\"1\" class=\"dataframe\">\n",
              "  <thead>\n",
              "    <tr style=\"text-align: right;\">\n",
              "      <th>estado</th>\n",
              "      <th>AC</th>\n",
              "      <th>AL</th>\n",
              "      <th>AM</th>\n",
              "      <th>AP</th>\n",
              "      <th>BA</th>\n",
              "      <th>CE</th>\n",
              "      <th>DF</th>\n",
              "      <th>ES</th>\n",
              "      <th>GO</th>\n",
              "      <th>MA</th>\n",
              "      <th>MG</th>\n",
              "      <th>MS</th>\n",
              "      <th>MT</th>\n",
              "      <th>PA</th>\n",
              "      <th>PB</th>\n",
              "      <th>PE</th>\n",
              "      <th>PI</th>\n",
              "      <th>PR</th>\n",
              "      <th>RJ</th>\n",
              "      <th>RN</th>\n",
              "      <th>RO</th>\n",
              "      <th>RR</th>\n",
              "      <th>RS</th>\n",
              "      <th>SC</th>\n",
              "      <th>SE</th>\n",
              "      <th>SP</th>\n",
              "      <th>TO</th>\n",
              "    </tr>\n",
              "    <tr>\n",
              "      <th>data</th>\n",
              "      <th></th>\n",
              "      <th></th>\n",
              "      <th></th>\n",
              "      <th></th>\n",
              "      <th></th>\n",
              "      <th></th>\n",
              "      <th></th>\n",
              "      <th></th>\n",
              "      <th></th>\n",
              "      <th></th>\n",
              "      <th></th>\n",
              "      <th></th>\n",
              "      <th></th>\n",
              "      <th></th>\n",
              "      <th></th>\n",
              "      <th></th>\n",
              "      <th></th>\n",
              "      <th></th>\n",
              "      <th></th>\n",
              "      <th></th>\n",
              "      <th></th>\n",
              "      <th></th>\n",
              "      <th></th>\n",
              "      <th></th>\n",
              "      <th></th>\n",
              "      <th></th>\n",
              "      <th></th>\n",
              "    </tr>\n",
              "  </thead>\n",
              "  <tbody>\n",
              "    <tr>\n",
              "      <th>2021-01-01</th>\n",
              "      <td>796</td>\n",
              "      <td>2488</td>\n",
              "      <td>5295</td>\n",
              "      <td>926</td>\n",
              "      <td>9093</td>\n",
              "      <td>9993</td>\n",
              "      <td>4263</td>\n",
              "      <td>5028</td>\n",
              "      <td>6805</td>\n",
              "      <td>4506</td>\n",
              "      <td>11902</td>\n",
              "      <td>2347</td>\n",
              "      <td>4467</td>\n",
              "      <td>7199</td>\n",
              "      <td>3680</td>\n",
              "      <td>9666</td>\n",
              "      <td>2840</td>\n",
              "      <td>7930</td>\n",
              "      <td>25600</td>\n",
              "      <td>2993</td>\n",
              "      <td>1822</td>\n",
              "      <td>781</td>\n",
              "      <td>8917</td>\n",
              "      <td>5270</td>\n",
              "      <td>2492</td>\n",
              "      <td>46775</td>\n",
              "      <td>1236</td>\n",
              "    </tr>\n",
              "    <tr>\n",
              "      <th>2021-01-02</th>\n",
              "      <td>798</td>\n",
              "      <td>2494</td>\n",
              "      <td>5325</td>\n",
              "      <td>927</td>\n",
              "      <td>9121</td>\n",
              "      <td>10015</td>\n",
              "      <td>4268</td>\n",
              "      <td>5054</td>\n",
              "      <td>6805</td>\n",
              "      <td>4513</td>\n",
              "      <td>11924</td>\n",
              "      <td>2360</td>\n",
              "      <td>4475</td>\n",
              "      <td>7209</td>\n",
              "      <td>3692</td>\n",
              "      <td>9674</td>\n",
              "      <td>2848</td>\n",
              "      <td>7938</td>\n",
              "      <td>25608</td>\n",
              "      <td>2995</td>\n",
              "      <td>1825</td>\n",
              "      <td>781</td>\n",
              "      <td>8934</td>\n",
              "      <td>5294</td>\n",
              "      <td>2500</td>\n",
              "      <td>46808</td>\n",
              "      <td>1239</td>\n",
              "    </tr>\n",
              "    <tr>\n",
              "      <th>2021-01-03</th>\n",
              "      <td>802</td>\n",
              "      <td>2501</td>\n",
              "      <td>5345</td>\n",
              "      <td>927</td>\n",
              "      <td>9152</td>\n",
              "      <td>10024</td>\n",
              "      <td>4269</td>\n",
              "      <td>5063</td>\n",
              "      <td>6805</td>\n",
              "      <td>4518</td>\n",
              "      <td>11938</td>\n",
              "      <td>2372</td>\n",
              "      <td>4488</td>\n",
              "      <td>7217</td>\n",
              "      <td>3706</td>\n",
              "      <td>9679</td>\n",
              "      <td>2854</td>\n",
              "      <td>7965</td>\n",
              "      <td>25616</td>\n",
              "      <td>3000</td>\n",
              "      <td>1832</td>\n",
              "      <td>781</td>\n",
              "      <td>8954</td>\n",
              "      <td>5314</td>\n",
              "      <td>2508</td>\n",
              "      <td>46845</td>\n",
              "      <td>1242</td>\n",
              "    </tr>\n",
              "    <tr>\n",
              "      <th>2021-01-04</th>\n",
              "      <td>806</td>\n",
              "      <td>2507</td>\n",
              "      <td>5368</td>\n",
              "      <td>936</td>\n",
              "      <td>9180</td>\n",
              "      <td>10025</td>\n",
              "      <td>4289</td>\n",
              "      <td>5116</td>\n",
              "      <td>6857</td>\n",
              "      <td>4524</td>\n",
              "      <td>11964</td>\n",
              "      <td>2398</td>\n",
              "      <td>4509</td>\n",
              "      <td>7223</td>\n",
              "      <td>3722</td>\n",
              "      <td>9691</td>\n",
              "      <td>2856</td>\n",
              "      <td>7997</td>\n",
              "      <td>25617</td>\n",
              "      <td>3011</td>\n",
              "      <td>1840</td>\n",
              "      <td>781</td>\n",
              "      <td>9018</td>\n",
              "      <td>5376</td>\n",
              "      <td>2516</td>\n",
              "      <td>46888</td>\n",
              "      <td>1244</td>\n",
              "    </tr>\n",
              "    <tr>\n",
              "      <th>2021-01-05</th>\n",
              "      <td>808</td>\n",
              "      <td>2513</td>\n",
              "      <td>5414</td>\n",
              "      <td>943</td>\n",
              "      <td>9209</td>\n",
              "      <td>10042</td>\n",
              "      <td>4305</td>\n",
              "      <td>5139</td>\n",
              "      <td>6885</td>\n",
              "      <td>4531</td>\n",
              "      <td>11984</td>\n",
              "      <td>2431</td>\n",
              "      <td>4529</td>\n",
              "      <td>7235</td>\n",
              "      <td>3740</td>\n",
              "      <td>9709</td>\n",
              "      <td>2863</td>\n",
              "      <td>8092</td>\n",
              "      <td>25837</td>\n",
              "      <td>3046</td>\n",
              "      <td>1852</td>\n",
              "      <td>783</td>\n",
              "      <td>9125</td>\n",
              "      <td>5420</td>\n",
              "      <td>2524</td>\n",
              "      <td>47222</td>\n",
              "      <td>1248</td>\n",
              "    </tr>\n",
              "  </tbody>\n",
              "</table>\n",
              "</div>"
            ],
            "text/plain": [
              "estado       AC    AL    AM   AP    BA  ...    RS    SC    SE     SP    TO\n",
              "data                                    ...                               \n",
              "2021-01-01  796  2488  5295  926  9093  ...  8917  5270  2492  46775  1236\n",
              "2021-01-02  798  2494  5325  927  9121  ...  8934  5294  2500  46808  1239\n",
              "2021-01-03  802  2501  5345  927  9152  ...  8954  5314  2508  46845  1242\n",
              "2021-01-04  806  2507  5368  936  9180  ...  9018  5376  2516  46888  1244\n",
              "2021-01-05  808  2513  5414  943  9209  ...  9125  5420  2524  47222  1248\n",
              "\n",
              "[5 rows x 27 columns]"
            ]
          },
          "metadata": {},
          "execution_count": 8
        }
      ]
    },
    {
      "cell_type": "code",
      "metadata": {
        "colab": {
          "base_uri": "https://localhost:8080/"
        },
        "id": "a-8u-kIzIX6Y",
        "outputId": "ba107f6e-f963-4742-97cc-f52e43b20bd1"
      },
      "source": [
        "#Todos os estados da planilha\n",
        "dfobitosacumulados.columns.values"
      ],
      "execution_count": 9,
      "outputs": [
        {
          "output_type": "execute_result",
          "data": {
            "text/plain": [
              "array(['AC', 'AL', 'AM', 'AP', 'BA', 'CE', 'DF', 'ES', 'GO', 'MA', 'MG',\n",
              "       'MS', 'MT', 'PA', 'PB', 'PE', 'PI', 'PR', 'RJ', 'RN', 'RO', 'RR',\n",
              "       'RS', 'SC', 'SE', 'SP', 'TO'], dtype=object)"
            ]
          },
          "metadata": {},
          "execution_count": 9
        }
      ]
    },
    {
      "cell_type": "code",
      "metadata": {
        "id": "21zl7UzzKbWd"
      },
      "source": [
        "# Os 12 maiores estados do país e os números de obitos acumulados\n",
        "colunasdosestadosselecionados = ['AM','BA','GO', 'MA', 'MG',\n",
        "       'MS', 'MT', 'PA','PI',\n",
        "       'RS','SP', 'TO']"
      ],
      "execution_count": 10,
      "outputs": []
    },
    {
      "cell_type": "code",
      "metadata": {
        "id": "byGHvkhiLGBB"
      },
      "source": [
        "#Os 12 estados filtrados com o número de óbitosAcumulados\n",
        "dfcolunas = dfobitosacumulados.filter(items=colunasdosestadosselecionados)"
      ],
      "execution_count": 11,
      "outputs": []
    },
    {
      "cell_type": "code",
      "metadata": {
        "colab": {
          "base_uri": "https://localhost:8080/",
          "height": 238
        },
        "id": "L2qqcHPDLi5P",
        "outputId": "3381bb03-6bf8-416f-f483-bd6ae8928b48"
      },
      "source": [
        "#dados dos estados selecionados\n",
        "dfcolunas.head()"
      ],
      "execution_count": 14,
      "outputs": [
        {
          "output_type": "execute_result",
          "data": {
            "text/html": [
              "<div>\n",
              "<style scoped>\n",
              "    .dataframe tbody tr th:only-of-type {\n",
              "        vertical-align: middle;\n",
              "    }\n",
              "\n",
              "    .dataframe tbody tr th {\n",
              "        vertical-align: top;\n",
              "    }\n",
              "\n",
              "    .dataframe thead th {\n",
              "        text-align: right;\n",
              "    }\n",
              "</style>\n",
              "<table border=\"1\" class=\"dataframe\">\n",
              "  <thead>\n",
              "    <tr style=\"text-align: right;\">\n",
              "      <th>estado</th>\n",
              "      <th>AM</th>\n",
              "      <th>BA</th>\n",
              "      <th>GO</th>\n",
              "      <th>MA</th>\n",
              "      <th>MG</th>\n",
              "      <th>MS</th>\n",
              "      <th>MT</th>\n",
              "      <th>PA</th>\n",
              "      <th>PI</th>\n",
              "      <th>RS</th>\n",
              "      <th>SP</th>\n",
              "      <th>TO</th>\n",
              "    </tr>\n",
              "    <tr>\n",
              "      <th>data</th>\n",
              "      <th></th>\n",
              "      <th></th>\n",
              "      <th></th>\n",
              "      <th></th>\n",
              "      <th></th>\n",
              "      <th></th>\n",
              "      <th></th>\n",
              "      <th></th>\n",
              "      <th></th>\n",
              "      <th></th>\n",
              "      <th></th>\n",
              "      <th></th>\n",
              "    </tr>\n",
              "  </thead>\n",
              "  <tbody>\n",
              "    <tr>\n",
              "      <th>2021-01-01</th>\n",
              "      <td>5295</td>\n",
              "      <td>9093</td>\n",
              "      <td>6805</td>\n",
              "      <td>4506</td>\n",
              "      <td>11902</td>\n",
              "      <td>2347</td>\n",
              "      <td>4467</td>\n",
              "      <td>7199</td>\n",
              "      <td>2840</td>\n",
              "      <td>8917</td>\n",
              "      <td>46775</td>\n",
              "      <td>1236</td>\n",
              "    </tr>\n",
              "    <tr>\n",
              "      <th>2021-01-02</th>\n",
              "      <td>5325</td>\n",
              "      <td>9121</td>\n",
              "      <td>6805</td>\n",
              "      <td>4513</td>\n",
              "      <td>11924</td>\n",
              "      <td>2360</td>\n",
              "      <td>4475</td>\n",
              "      <td>7209</td>\n",
              "      <td>2848</td>\n",
              "      <td>8934</td>\n",
              "      <td>46808</td>\n",
              "      <td>1239</td>\n",
              "    </tr>\n",
              "    <tr>\n",
              "      <th>2021-01-03</th>\n",
              "      <td>5345</td>\n",
              "      <td>9152</td>\n",
              "      <td>6805</td>\n",
              "      <td>4518</td>\n",
              "      <td>11938</td>\n",
              "      <td>2372</td>\n",
              "      <td>4488</td>\n",
              "      <td>7217</td>\n",
              "      <td>2854</td>\n",
              "      <td>8954</td>\n",
              "      <td>46845</td>\n",
              "      <td>1242</td>\n",
              "    </tr>\n",
              "    <tr>\n",
              "      <th>2021-01-04</th>\n",
              "      <td>5368</td>\n",
              "      <td>9180</td>\n",
              "      <td>6857</td>\n",
              "      <td>4524</td>\n",
              "      <td>11964</td>\n",
              "      <td>2398</td>\n",
              "      <td>4509</td>\n",
              "      <td>7223</td>\n",
              "      <td>2856</td>\n",
              "      <td>9018</td>\n",
              "      <td>46888</td>\n",
              "      <td>1244</td>\n",
              "    </tr>\n",
              "    <tr>\n",
              "      <th>2021-01-05</th>\n",
              "      <td>5414</td>\n",
              "      <td>9209</td>\n",
              "      <td>6885</td>\n",
              "      <td>4531</td>\n",
              "      <td>11984</td>\n",
              "      <td>2431</td>\n",
              "      <td>4529</td>\n",
              "      <td>7235</td>\n",
              "      <td>2863</td>\n",
              "      <td>9125</td>\n",
              "      <td>47222</td>\n",
              "      <td>1248</td>\n",
              "    </tr>\n",
              "  </tbody>\n",
              "</table>\n",
              "</div>"
            ],
            "text/plain": [
              "estado        AM    BA    GO    MA     MG  ...    PA    PI    RS     SP    TO\n",
              "data                                       ...                               \n",
              "2021-01-01  5295  9093  6805  4506  11902  ...  7199  2840  8917  46775  1236\n",
              "2021-01-02  5325  9121  6805  4513  11924  ...  7209  2848  8934  46808  1239\n",
              "2021-01-03  5345  9152  6805  4518  11938  ...  7217  2854  8954  46845  1242\n",
              "2021-01-04  5368  9180  6857  4524  11964  ...  7223  2856  9018  46888  1244\n",
              "2021-01-05  5414  9209  6885  4531  11984  ...  7235  2863  9125  47222  1248\n",
              "\n",
              "[5 rows x 12 columns]"
            ]
          },
          "metadata": {},
          "execution_count": 14
        }
      ]
    },
    {
      "cell_type": "code",
      "metadata": {
        "id": "K_Nzd0ppfDTD"
      },
      "source": [
        "#Nas ações seguintes, foram selecionados individualmente, cada um dos 12 estados selecionados e montado o gráfico em relação as mortes acumuladas em cada um deles de janeiro a setembro de 2021.\n",
        "Amazonas = dfcolunas['AM']"
      ],
      "execution_count": 17,
      "outputs": []
    },
    {
      "cell_type": "code",
      "metadata": {
        "colab": {
          "base_uri": "https://localhost:8080/"
        },
        "id": "fLs9-ZuksqEW",
        "outputId": "511b2139-e49e-445e-e2d1-604b08f634c0"
      },
      "source": [
        "Amazonas.head()"
      ],
      "execution_count": 18,
      "outputs": [
        {
          "output_type": "execute_result",
          "data": {
            "text/plain": [
              "data\n",
              "2021-01-01    5295\n",
              "2021-01-02    5325\n",
              "2021-01-03    5345\n",
              "2021-01-04    5368\n",
              "2021-01-05    5414\n",
              "Name: AM, dtype: int64"
            ]
          },
          "metadata": {},
          "execution_count": 18
        }
      ]
    },
    {
      "cell_type": "code",
      "metadata": {
        "colab": {
          "base_uri": "https://localhost:8080/",
          "height": 298
        },
        "id": "5N02dAbhiuEa",
        "outputId": "41a3b42b-8dbe-48b5-f3f5-74665ccf912e"
      },
      "source": [
        "Amazonas.hist(bins=100)\n",
        "plt.title('Amazonas')\n",
        "#plt.xlabel('Mortes')\n",
        "#plt.ylabel('Meses')\n",
        "#plt.legend()\n",
        "#plt.xlim()"
      ],
      "execution_count": 19,
      "outputs": [
        {
          "output_type": "execute_result",
          "data": {
            "text/plain": [
              "Text(0.5, 1.0, 'Amazonas')"
            ]
          },
          "metadata": {},
          "execution_count": 19
        },
        {
          "output_type": "display_data",
          "data": {
            "image/png": "[encoded data removed]",
            "text/plain": [
              "<Figure size 432x288 with 1 Axes>"
            ]
          },
          "metadata": {
            "needs_background": "light"
          }
        }
      ]
    },
    {
      "cell_type": "code",
      "metadata": {
        "id": "FczTmxnsrt6N"
      },
      "source": [
        "Bahia = dfcolunas['BA']"
      ],
      "execution_count": 20,
      "outputs": []
    },
    {
      "cell_type": "code",
      "metadata": {
        "colab": {
          "base_uri": "https://localhost:8080/"
        },
        "id": "_5rAuOl7sOzo",
        "outputId": "9cf69575-2385-4dd6-d28b-20c9d58674b3"
      },
      "source": [
        "Bahia.head()"
      ],
      "execution_count": 21,
      "outputs": [
        {
          "output_type": "execute_result",
          "data": {
            "text/plain": [
              "data\n",
              "2021-01-01    9093\n",
              "2021-01-02    9121\n",
              "2021-01-03    9152\n",
              "2021-01-04    9180\n",
              "2021-01-05    9209\n",
              "Name: BA, dtype: int64"
            ]
          },
          "metadata": {},
          "execution_count": 21
        }
      ]
    },
    {
      "cell_type": "code",
      "metadata": {
        "colab": {
          "base_uri": "https://localhost:8080/",
          "height": 298
        },
        "id": "RjuJTKT0sDWJ",
        "outputId": "2fdc8445-5a65-4206-86b5-dbd9869e8b92"
      },
      "source": [
        "Bahia.hist(bins=100)\n",
        "plt.title('Bahia')\n",
        "#plt.xlabel('Mortes')\n",
        "#plt.ylabel('Meses')\n",
        "#plt.legend()\n",
        "#plt.xlim()"
      ],
      "execution_count": 22,
      "outputs": [
        {
          "output_type": "execute_result",
          "data": {
            "text/plain": [
              "Text(0.5, 1.0, 'Bahia')"
            ]
          },
          "metadata": {},
          "execution_count": 22
        },
        {
          "output_type": "display_data",
          "data": {
            "image/png": "[encoded data removed]",
            "text/plain": [
              "<Figure size 432x288 with 1 Axes>"
            ]
          },
          "metadata": {
            "needs_background": "light"
          }
        }
      ]
    },
    {
      "cell_type": "code",
      "metadata": {
        "id": "riRv8D1RtBCl"
      },
      "source": [
        "Goiás = dfcolunas['GO']"
      ],
      "execution_count": 23,
      "outputs": []
    },
    {
      "cell_type": "code",
      "metadata": {
        "colab": {
          "base_uri": "https://localhost:8080/"
        },
        "id": "SfRE666ftKWB",
        "outputId": "e8f34ab0-8f85-47b1-b46d-b8001a120970"
      },
      "source": [
        "Goiás.head"
      ],
      "execution_count": 24,
      "outputs": [
        {
          "output_type": "execute_result",
          "data": {
            "text/plain": [
              "<bound method NDFrame.head of data\n",
              "2021-01-01     6805\n",
              "2021-01-02     6805\n",
              "2021-01-03     6805\n",
              "2021-01-04     6857\n",
              "2021-01-05     6885\n",
              "              ...  \n",
              "2021-06-26    18953\n",
              "2021-06-27    18988\n",
              "2021-06-28    18992\n",
              "2021-06-29    19084\n",
              "2021-06-30    19187\n",
              "Name: GO, Length: 181, dtype: int64>"
            ]
          },
          "metadata": {},
          "execution_count": 24
        }
      ]
    },
    {
      "cell_type": "code",
      "metadata": {
        "colab": {
          "base_uri": "https://localhost:8080/",
          "height": 298
        },
        "id": "-_YXknNFtQ4V",
        "outputId": "eb15e2ab-56f6-4adc-d8d0-69e1b07996d2"
      },
      "source": [
        "Goiás.hist(bins=100)\n",
        "plt.title('Goiás')\n",
        "#plt.xlabel('Mortes')\n",
        "#plt.ylabel('Meses')\n",
        "#plt.legend()\n",
        "#plt.xlim()"
      ],
      "execution_count": 25,
      "outputs": [
        {
          "output_type": "execute_result",
          "data": {
            "text/plain": [
              "Text(0.5, 1.0, 'Goiás')"
            ]
          },
          "metadata": {},
          "execution_count": 25
        },
        {
          "output_type": "display_data",
          "data": {
            "image/png": "[encoded data removed]",
            "text/plain": [
              "<Figure size 432x288 with 1 Axes>"
            ]
          },
          "metadata": {
            "needs_background": "light"
          }
        }
      ]
    },
    {
      "cell_type": "code",
      "metadata": {
        "id": "9Ld04HS5tYxV"
      },
      "source": [
        "Maranhão = dfcolunas['MA']"
      ],
      "execution_count": 26,
      "outputs": []
    },
    {
      "cell_type": "code",
      "metadata": {
        "colab": {
          "base_uri": "https://localhost:8080/",
          "height": 298
        },
        "id": "L-CC17Xytmob",
        "outputId": "af1b6a7b-faae-49db-b7bd-4abc114f82b4"
      },
      "source": [
        "Maranhão.hist(bins=100)\n",
        "plt.title('Maranhão')\n",
        "#plt.xlabel('Mortes')\n",
        "#plt.ylabel('Meses')\n",
        "#plt.legend()\n",
        "#plt.xlim()"
      ],
      "execution_count": 28,
      "outputs": [
        {
          "output_type": "execute_result",
          "data": {
            "text/plain": [
              "Text(0.5, 1.0, 'Maranhão')"
            ]
          },
          "metadata": {},
          "execution_count": 28
        },
        {
          "output_type": "display_data",
          "data": {
            "image/png": "[encoded data removed]",
            "text/plain": [
              "<Figure size 432x288 with 1 Axes>"
            ]
          },
          "metadata": {
            "needs_background": "light"
          }
        }
      ]
    },
    {
      "cell_type": "code",
      "metadata": {
        "id": "PEVBy4Wetx9Q"
      },
      "source": [
        "MinasGerais = dfcolunas['MG']"
      ],
      "execution_count": 27,
      "outputs": []
    },
    {
      "cell_type": "code",
      "metadata": {
        "colab": {
          "base_uri": "https://localhost:8080/",
          "height": 298
        },
        "id": "1yvEOzp1t-43",
        "outputId": "e56ec1ed-896f-41f0-f323-dc42a2954d2f"
      },
      "source": [
        "MinasGerais.hist(bins=100)\n",
        "plt.title('Minas Gerais')\n",
        "#plt.xlabel('Mortes')\n",
        "#plt.ylabel('Meses')\n",
        "#plt.legend()\n",
        "#plt.xlim()"
      ],
      "execution_count": 29,
      "outputs": [
        {
          "output_type": "execute_result",
          "data": {
            "text/plain": [
              "Text(0.5, 1.0, 'Minas Gerais')"
            ]
          },
          "metadata": {},
          "execution_count": 29
        },
        {
          "output_type": "display_data",
          "data": {
            "image/png": "[encoded data removed]",
            "text/plain": [
              "<Figure size 432x288 with 1 Axes>"
            ]
          },
          "metadata": {
            "needs_background": "light"
          }
        }
      ]
    },
    {
      "cell_type": "code",
      "metadata": {
        "id": "iOqOzZ3EuRps"
      },
      "source": [
        "MatoGrossoDoSul = dfcolunas['MS']"
      ],
      "execution_count": 30,
      "outputs": []
    },
    {
      "cell_type": "code",
      "metadata": {
        "colab": {
          "base_uri": "https://localhost:8080/",
          "height": 298
        },
        "id": "s6LS9Z__ujL6",
        "outputId": "81db2c18-e4bf-4eea-f8c2-64914e5b7d2a"
      },
      "source": [
        "MatoGrossoDoSul.hist(bins=100)\n",
        "plt.title('Mato Grosso do Sul')\n",
        "#plt.xlabel('Mortes')\n",
        "#plt.ylabel('Meses')\n",
        "#plt.legend()\n",
        "#plt.xlim()"
      ],
      "execution_count": 31,
      "outputs": [
        {
          "output_type": "execute_result",
          "data": {
            "text/plain": [
              "Text(0.5, 1.0, 'Mato Grosso do Sul')"
            ]
          },
          "metadata": {},
          "execution_count": 31
        },
        {
          "output_type": "display_data",
          "data": {
            "image/png": "[encoded data removed]",
            "text/plain": [
              "<Figure size 432x288 with 1 Axes>"
            ]
          },
          "metadata": {
            "needs_background": "light"
          }
        }
      ]
    },
    {
      "cell_type": "code",
      "metadata": {
        "id": "MjwWgXGkuo1Q"
      },
      "source": [
        "MatoGrosso = dfcolunas['MT']"
      ],
      "execution_count": 32,
      "outputs": []
    },
    {
      "cell_type": "code",
      "metadata": {
        "colab": {
          "base_uri": "https://localhost:8080/",
          "height": 298
        },
        "id": "AoK0iOjMuzHv",
        "outputId": "6c72b88b-146c-4967-f090-207b2492fd8e"
      },
      "source": [
        "MatoGrosso.hist(bins=100)\n",
        "plt.title('Mato Grosso')\n",
        "#plt.xlabel('Mortes')\n",
        "#plt.ylabel('Meses')\n",
        "#plt.legend()\n",
        "#plt.xlim()"
      ],
      "execution_count": 33,
      "outputs": [
        {
          "output_type": "execute_result",
          "data": {
            "text/plain": [
              "Text(0.5, 1.0, 'Mato Grosso')"
            ]
          },
          "metadata": {},
          "execution_count": 33
        },
        {
          "output_type": "display_data",
          "data": {
            "image/png": "[encoded data removed]",
            "text/plain": [
              "<Figure size 432x288 with 1 Axes>"
            ]
          },
          "metadata": {
            "needs_background": "light"
          }
        }
      ]
    },
    {
      "cell_type": "code",
      "metadata": {
        "id": "PCVt9WQcu70x"
      },
      "source": [
        "Pará = dfcolunas['PA']"
      ],
      "execution_count": 34,
      "outputs": []
    },
    {
      "cell_type": "code",
      "metadata": {
        "colab": {
          "base_uri": "https://localhost:8080/",
          "height": 298
        },
        "id": "TQtiEidgvEiY",
        "outputId": "06723bc4-48dd-448c-fe42-10c69ee16169"
      },
      "source": [
        "Pará.hist(bins=100)\n",
        "plt.title('Pará')\n",
        "#plt.xlabel('Mortes')\n",
        "#plt.ylabel('Meses')\n",
        "#plt.legend()\n",
        "#plt.xlim()"
      ],
      "execution_count": 35,
      "outputs": [
        {
          "output_type": "execute_result",
          "data": {
            "text/plain": [
              "Text(0.5, 1.0, 'Pará')"
            ]
          },
          "metadata": {},
          "execution_count": 35
        },
        {
          "output_type": "display_data",
          "data": {
            "image/png": "[encoded data removed]",
            "text/plain": [
              "<Figure size 432x288 with 1 Axes>"
            ]
          },
          "metadata": {
            "needs_background": "light"
          }
        }
      ]
    },
    {
      "cell_type": "code",
      "metadata": {
        "id": "jWp1vYIZvMX4"
      },
      "source": [
        "Piauí = dfcolunas['PI']"
      ],
      "execution_count": 36,
      "outputs": []
    },
    {
      "cell_type": "code",
      "metadata": {
        "colab": {
          "base_uri": "https://localhost:8080/",
          "height": 298
        },
        "id": "R_zvex80vTx0",
        "outputId": "ad3595ce-947a-4525-e90d-01da8d597d1f"
      },
      "source": [
        "Piauí.hist(bins=100)\n",
        "plt.title('Piauí')\n",
        "#plt.xlabel('Mortes')\n",
        "#plt.ylabel('Meses')\n",
        "#plt.legend()\n",
        "#plt.xlim()"
      ],
      "execution_count": 37,
      "outputs": [
        {
          "output_type": "execute_result",
          "data": {
            "text/plain": [
              "Text(0.5, 1.0, 'Piauí')"
            ]
          },
          "metadata": {},
          "execution_count": 37
        },
        {
          "output_type": "display_data",
          "data": {
            "image/png": "[encoded data removed]",
            "text/plain": [
              "<Figure size 432x288 with 1 Axes>"
            ]
          },
          "metadata": {
            "needs_background": "light"
          }
        }
      ]
    },
    {
      "cell_type": "code",
      "metadata": {
        "id": "WbFlwHWNvcRH"
      },
      "source": [
        "RioGrandeDoSul = dfcolunas['RS']"
      ],
      "execution_count": 38,
      "outputs": []
    },
    {
      "cell_type": "code",
      "metadata": {
        "colab": {
          "base_uri": "https://localhost:8080/",
          "height": 298
        },
        "id": "rMP8dT3LvnjJ",
        "outputId": "b764a9b2-4cb0-42ae-d0a7-4d83af518725"
      },
      "source": [
        "RioGrandeDoSul.hist(bins=100)\n",
        "plt.title('Rio Grande do Sul')\n",
        "#plt.xlabel('Mortes')\n",
        "#plt.ylabel('Meses')\n",
        "#plt.legend()\n",
        "#plt.xlim()"
      ],
      "execution_count": 39,
      "outputs": [
        {
          "output_type": "execute_result",
          "data": {
            "text/plain": [
              "Text(0.5, 1.0, 'Rio Grande do Sul')"
            ]
          },
          "metadata": {},
          "execution_count": 39
        },
        {
          "output_type": "display_data",
          "data": {
            "image/png": "[encoded data removed]",
            "text/plain": [
              "<Figure size 432x288 with 1 Axes>"
            ]
          },
          "metadata": {
            "needs_background": "light"
          }
        }
      ]
    },
    {
      "cell_type": "code",
      "metadata": {
        "id": "PZgsaipyvwi-"
      },
      "source": [
        "SãoPaulo = dfcolunas['SP']"
      ],
      "execution_count": 40,
      "outputs": []
    },
    {
      "cell_type": "code",
      "metadata": {
        "colab": {
          "base_uri": "https://localhost:8080/",
          "height": 298
        },
        "id": "Wo0XyxO1v3fO",
        "outputId": "303bfc3d-16d2-4df3-ad64-4d8ed07ec4f5"
      },
      "source": [
        "SãoPaulo.hist(bins=100)\n",
        "plt.title('São Paulo')\n",
        "#plt.xlabel('Mortes')\n",
        "#plt.ylabel('Meses')\n",
        "#plt.legend()\n",
        "#plt.xlim()"
      ],
      "execution_count": 41,
      "outputs": [
        {
          "output_type": "execute_result",
          "data": {
            "text/plain": [
              "Text(0.5, 1.0, 'São Paulo')"
            ]
          },
          "metadata": {},
          "execution_count": 41
        },
        {
          "output_type": "display_data",
          "data": {
            "image/png": "[encoded data removed]",
            "text/plain": [
              "<Figure size 432x288 with 1 Axes>"
            ]
          },
          "metadata": {
            "needs_background": "light"
          }
        }
      ]
    },
    {
      "cell_type": "code",
      "metadata": {
        "id": "TwnT-jaswAD5"
      },
      "source": [
        "Tocantins = dfcolunas['TO']"
      ],
      "execution_count": 42,
      "outputs": []
    },
    {
      "cell_type": "code",
      "metadata": {
        "colab": {
          "base_uri": "https://localhost:8080/",
          "height": 281
        },
        "id": "S_iWfYmmwINA",
        "outputId": "f71d6400-dbe2-41e7-939b-28764726e821"
      },
      "source": [
        "Tocantins.hist(bins=100)\n",
        "plt.title('Tocantins')\n",
        "#plt.xlabel('Mortes')\n",
        "#plt.ylabel('Meses')\n",
        "#plt.legend()\n",
        "#plt.xlim()\n",
        "plt.show()"
      ],
      "execution_count": 43,
      "outputs": [
        {
          "output_type": "display_data",
          "data": {
            "image/png": "[encoded data removed]",
            "text/plain": [
              "<Figure size 432x288 with 1 Axes>"
            ]
          },
          "metadata": {
            "needs_background": "light"
          }
        }
      ]
    },
    {
      "cell_type": "code",
      "metadata": {
        "id": "-JOMl3Iny1Nx"
      },
      "source": [
        "DadosCovid2021deObitosAcumulado = dfobitosacumulados.to_csv('DadosCovid2021deObitosAcumulado.csv')"
      ],
      "execution_count": 44,
      "outputs": []
    },
    {
      "cell_type": "code",
      "metadata": {
        "id": "AKyCm4cf7tb6"
      },
      "source": [
        "DadosCovid2021ColunasSelecionadas = dfcolunas.to_csv('Dadoscovid2021ColunasSelecionadas.csv')"
      ],
      "execution_count": 45,
      "outputs": []
    }
  ]
}